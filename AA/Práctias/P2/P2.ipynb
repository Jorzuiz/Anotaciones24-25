{
 "cells": [
  {
   "cell_type": "code",
   "execution_count": 1,
   "metadata": {},
   "outputs": [
    {
     "name": "stdout",
     "output_type": "stream",
     "text": [
      "------------test_cost-----------\n",
      "---POO---\n"
     ]
    },
    {
     "ename": "ValueError",
     "evalue": "matmul: Input operand 1 has a mismatch in its core dimension 0, with gufunc signature (n?,k),(k,m?)->(n?,m?) (size 3 is different from 4)",
     "output_type": "error",
     "traceback": [
      "\u001b[1;31m---------------------------------------------------------------------------\u001b[0m",
      "\u001b[1;31mValueError\u001b[0m                                Traceback (most recent call last)",
      "Cell \u001b[1;32mIn[1], line 6\u001b[0m\n\u001b[0;32m      4\u001b[0m \u001b[38;5;28;01mimport\u001b[39;00m \u001b[38;5;21;01mutils\u001b[39;00m\n\u001b[0;32m      5\u001b[0m \u001b[38;5;28;01mfrom\u001b[39;00m \u001b[38;5;21;01mLinearRegressionMulti\u001b[39;00m \u001b[38;5;28;01mimport\u001b[39;00m LinearRegMulti\n\u001b[1;32m----> 6\u001b[0m \u001b[38;5;28;01mimport\u001b[39;00m \u001b[38;5;21;01mpractica02\u001b[39;00m\n\u001b[0;32m      8\u001b[0m \u001b[38;5;66;03m#name,platform,r-date,score,user score,developer,genre,players,critics,users\u001b[39;00m\n\u001b[0;32m      9\u001b[0m X, y \u001b[38;5;241m=\u001b[39m utils\u001b[38;5;241m.\u001b[39mload_data_csv_multi(\u001b[38;5;124m'\u001b[39m\u001b[38;5;124mdata/games-data.csv\u001b[39m\u001b[38;5;124m'\u001b[39m,\u001b[38;5;124m'\u001b[39m\u001b[38;5;124mscore\u001b[39m\u001b[38;5;124m'\u001b[39m,\u001b[38;5;124m'\u001b[39m\u001b[38;5;124mcritics\u001b[39m\u001b[38;5;124m'\u001b[39m,\u001b[38;5;124m'\u001b[39m\u001b[38;5;124musers\u001b[39m\u001b[38;5;124m'\u001b[39m,\u001b[38;5;124m'\u001b[39m\u001b[38;5;124muser score\u001b[39m\u001b[38;5;124m'\u001b[39m)\n",
      "File \u001b[1;32mc:\\Users\\jorda\\OneDrive\\Documentos\\Uni\\Anotaciones24-25\\AA\\Práctias\\P2\\practica02.py:46\u001b[0m\n\u001b[0;32m     44\u001b[0m x_train, y_train \u001b[38;5;241m=\u001b[39m load_data_csv_multi(\u001b[38;5;124m\"\u001b[39m\u001b[38;5;124m./data/games-data.csv\u001b[39m\u001b[38;5;124m\"\u001b[39m,\u001b[38;5;124m\"\u001b[39m\u001b[38;5;124mscore\u001b[39m\u001b[38;5;124m\"\u001b[39m,\u001b[38;5;124m\"\u001b[39m\u001b[38;5;124mcritics\u001b[39m\u001b[38;5;124m\"\u001b[39m,\u001b[38;5;124m\"\u001b[39m\u001b[38;5;124musers\u001b[39m\u001b[38;5;124m\"\u001b[39m,\u001b[38;5;124m\"\u001b[39m\u001b[38;5;124muser score\u001b[39m\u001b[38;5;124m\"\u001b[39m)\n\u001b[0;32m     45\u001b[0m x_train, mu, sigma \u001b[38;5;241m=\u001b[39m zscore_normalize_features(x_train)\n\u001b[1;32m---> 46\u001b[0m \u001b[43mtest_cost\u001b[49m\u001b[43m(\u001b[49m\u001b[43mx_train\u001b[49m\u001b[43m,\u001b[49m\u001b[43m \u001b[49m\u001b[43my_train\u001b[49m\u001b[43m)\u001b[49m\n\u001b[0;32m     47\u001b[0m test_gradient(x_train, y_train)\n\u001b[0;32m     48\u001b[0m test_gradient_descent(x_train, y_train)\n",
      "File \u001b[1;32mc:\\Users\\jorda\\OneDrive\\Documentos\\Uni\\Anotaciones24-25\\AA\\Práctias\\P2\\practica02.py:20\u001b[0m, in \u001b[0;36mtest_cost\u001b[1;34m(x_train, y_train)\u001b[0m\n\u001b[0;32m     18\u001b[0m \u001b[38;5;28mprint\u001b[39m(\u001b[38;5;124m\"\u001b[39m\u001b[38;5;124m------------test_cost-----------\u001b[39m\u001b[38;5;124m\"\u001b[39m)\n\u001b[0;32m     19\u001b[0m \u001b[38;5;28mprint\u001b[39m(\u001b[38;5;124m\"\u001b[39m\u001b[38;5;124m---POO---\u001b[39m\u001b[38;5;124m\"\u001b[39m)\n\u001b[1;32m---> 20\u001b[0m \u001b[43mcompute_cost_test\u001b[49m\u001b[43m(\u001b[49m\u001b[43mcost_test_multi_obj\u001b[49m\u001b[43m)\u001b[49m\n",
      "File \u001b[1;32mc:\\Users\\jorda\\OneDrive\\Documentos\\Uni\\Anotaciones24-25\\AA\\Práctias\\P2\\public_tests_multi.py:15\u001b[0m, in \u001b[0;36mcompute_cost_test\u001b[1;34m(target)\u001b[0m\n\u001b[0;32m     13\u001b[0m \u001b[38;5;28;01mdef\u001b[39;00m \u001b[38;5;21mcompute_cost_test\u001b[39m(target):\n\u001b[0;32m     14\u001b[0m     X_train, y_train, w_init, b_init \u001b[38;5;241m=\u001b[39m test_data()\n\u001b[1;32m---> 15\u001b[0m     cost \u001b[38;5;241m=\u001b[39m \u001b[43mtarget\u001b[49m\u001b[43m(\u001b[49m\u001b[43mX_train\u001b[49m\u001b[43m,\u001b[49m\u001b[43m \u001b[49m\u001b[43my_train\u001b[49m\u001b[43m,\u001b[49m\u001b[43m \u001b[49m\u001b[43mw_init\u001b[49m\u001b[43m,\u001b[49m\u001b[43m \u001b[49m\u001b[43mb_init\u001b[49m\u001b[43m)\u001b[49m\n\u001b[0;32m     16\u001b[0m     target_cost \u001b[38;5;241m=\u001b[39m \u001b[38;5;241m1.5578904045996674e-12\u001b[39m\n\u001b[0;32m     17\u001b[0m     \u001b[38;5;28;01massert\u001b[39;00m np\u001b[38;5;241m.\u001b[39misclose(\n\u001b[0;32m     18\u001b[0m         cost, target_cost, rtol\u001b[38;5;241m=\u001b[39m\u001b[38;5;241m1e-4\u001b[39m), \u001b[38;5;124mf\u001b[39m\u001b[38;5;124m\"\u001b[39m\u001b[38;5;124mCase 1: Cost must be \u001b[39m\u001b[38;5;132;01m{\u001b[39;00mtarget_cost\u001b[38;5;132;01m}\u001b[39;00m\u001b[38;5;124m for a perfect prediction but got \u001b[39m\u001b[38;5;132;01m{\u001b[39;00mcost\u001b[38;5;132;01m}\u001b[39;00m\u001b[38;5;124m\"\u001b[39m\n",
      "File \u001b[1;32mc:\\Users\\jorda\\OneDrive\\Documentos\\Uni\\Anotaciones24-25\\AA\\Práctias\\P2\\LinearRegressionMulti.py:140\u001b[0m, in \u001b[0;36mcost_test_multi_obj\u001b[1;34m(x, y, w_init, b_init)\u001b[0m\n\u001b[0;32m    138\u001b[0m \u001b[38;5;28;01mdef\u001b[39;00m \u001b[38;5;21mcost_test_multi_obj\u001b[39m(x,y,w_init,b_init):\n\u001b[0;32m    139\u001b[0m     lr \u001b[38;5;241m=\u001b[39m LinearRegMulti(x,y,w_init,b_init,\u001b[38;5;241m0\u001b[39m)\n\u001b[1;32m--> 140\u001b[0m     cost \u001b[38;5;241m=\u001b[39m \u001b[43mlr\u001b[49m\u001b[38;5;241;43m.\u001b[39;49m\u001b[43mcompute_cost\u001b[49m\u001b[43m(\u001b[49m\u001b[43m)\u001b[49m\n\u001b[0;32m    141\u001b[0m     \u001b[38;5;28;01mreturn\u001b[39;00m cost\n",
      "File \u001b[1;32mc:\\Users\\jorda\\OneDrive\\Documentos\\Uni\\Anotaciones24-25\\AA\\Práctias\\P2\\LinearRegressionMulti.py:75\u001b[0m, in \u001b[0;36mLinearRegMulti.compute_cost\u001b[1;34m(self)\u001b[0m\n\u001b[0;32m     71\u001b[0m \u001b[38;5;28;01mdef\u001b[39;00m \u001b[38;5;21mcompute_cost\u001b[39m(\u001b[38;5;28mself\u001b[39m):\n\u001b[0;32m     72\u001b[0m     \n\u001b[0;32m     73\u001b[0m     \u001b[38;5;66;03m# Esta es la formula de coste de la funcion\u001b[39;00m\n\u001b[0;32m     74\u001b[0m     \u001b[38;5;66;03m# Mean Squared Error formula\u001b[39;00m\n\u001b[1;32m---> 75\u001b[0m     squared_error \u001b[38;5;241m=\u001b[39m np\u001b[38;5;241m.\u001b[39msum((\u001b[38;5;28;43mself\u001b[39;49m\u001b[38;5;241;43m.\u001b[39;49m\u001b[43mf_w_b_multi\u001b[49m\u001b[43m(\u001b[49m\u001b[38;5;28;43mself\u001b[39;49m\u001b[38;5;241;43m.\u001b[39;49m\u001b[43mx\u001b[49m\u001b[43m)\u001b[49m\u001b[38;5;241m-\u001b[39m\u001b[38;5;28mself\u001b[39m\u001b[38;5;241m.\u001b[39my) \u001b[38;5;241m*\u001b[39m\u001b[38;5;241m*\u001b[39m \u001b[38;5;241m2\u001b[39m) \u001b[38;5;241m/\u001b[39m (\u001b[38;5;241m2\u001b[39m\u001b[38;5;241m*\u001b[39m\u001b[38;5;28mself\u001b[39m\u001b[38;5;241m.\u001b[39mm) \n\u001b[0;32m     76\u001b[0m     squared_error \u001b[38;5;241m=\u001b[39m squared_error \u001b[38;5;241m+\u001b[39m \u001b[38;5;28mself\u001b[39m\u001b[38;5;241m.\u001b[39m_regularizationL2Cost()\n\u001b[0;32m     78\u001b[0m     \u001b[38;5;28;01mreturn\u001b[39;00m squared_error\n",
      "File \u001b[1;32mc:\\Users\\jorda\\OneDrive\\Documentos\\Uni\\Anotaciones24-25\\AA\\Práctias\\P2\\LinearRegressionMulti.py:62\u001b[0m, in \u001b[0;36mLinearRegMulti.f_w_b_multi\u001b[1;34m(self, x)\u001b[0m\n\u001b[0;32m     61\u001b[0m \u001b[38;5;28;01mdef\u001b[39;00m \u001b[38;5;21mf_w_b_multi\u001b[39m(\u001b[38;5;28mself\u001b[39m, x):\n\u001b[1;32m---> 62\u001b[0m     \u001b[38;5;28;01mreturn\u001b[39;00m \u001b[38;5;28;43mself\u001b[39;49m\u001b[38;5;241;43m.\u001b[39;49m\u001b[43mw\u001b[49m\u001b[43m \u001b[49m\u001b[38;5;241;43m@\u001b[39;49m\u001b[43m \u001b[49m\u001b[43mx\u001b[49m \u001b[38;5;241m+\u001b[39m \u001b[38;5;28mself\u001b[39m\u001b[38;5;241m.\u001b[39mb\n",
      "\u001b[1;31mValueError\u001b[0m: matmul: Input operand 1 has a mismatch in its core dimension 0, with gufunc signature (n?,k),(k,m?)->(n?,m?) (size 3 is different from 4)"
     ]
    }
   ],
   "source": [
    "import pandas as pd\n",
    "import numpy as np\n",
    "import matplotlib.pyplot as plt\n",
    "import utils\n",
    "from LinearRegressionMulti import LinearRegMulti\n",
    "import practica02\n",
    "\n",
    "#name,platform,r-date,score,user score,developer,genre,players,critics,users\n",
    "X, y = utils.load_data_csv_multi('data/games-data.csv','score','critics','users','user score')\n",
    "#Ej1\n",
    "# X[:,0], mu0, sigma = utils.zscore_normalize_features(X[:,0])\n",
    "# X[:,1], mu1, sigma = utils.zscore_normalize_features(X[:,1])\n",
    "# X[:,2], mu2, sigma = utils.zscore_normalize_features(X[:,2])\n",
    "# X[:,0]=X[:,0]+mu0\n",
    "# display(X[:,0])\n",
    "# display(y)\n",
    "\n",
    "# Soy BASTANTE tonto, me se olvidó normalizar\n",
    "X,mu,sigma = utils.zscore_normalize_features(X)\n",
    "\n",
    "initial_w = np.zeros(X.shape[0])\n",
    "initial_b = 0\n",
    "lambda_= 0\n",
    "alpha= 0.01\n",
    "num_iters = 1500\n",
    "lr = LinearRegMulti(X,y,initial_w,initial_b,lambda_=0)\n",
    "w,b,j_history,w_init,b_init = lr.gradient_descent(alpha=0.01,num_iters=1500)\n",
    "print(j_history)\n",
    "utils.plot_history(j_history, num_iters)\n",
    "\n",
    "\n",
    "plt.scatter(X[:,0], y, marker='.', label='Datos')\n",
    "display(X[:,0])\n",
    "print(w)\n",
    "print(b)\n",
    "plt.plot(X[:,0], w[0] * X[:,0] + b, color='red',marker='.', label='Regresion Lineal (Prediccion)')\n",
    "plt.xlabel('Score (1-10)')\n",
    "plt.ylabel('User score (1-10)')\n",
    "plt.legend()\n",
    "plt.show()\n",
    "\n",
    "utils.plot_data(X,y)\n",
    "\n",
    "print(X[:,0],X[:,1],X[:,2],y)\n",
    "\n",
    "# practica02.test_cost(X,y)\n",
    "# practica02.test_gradient(X,y)\n",
    "# practica02.test_gradient_descent(X,y)\n"
   ]
  }
 ],
 "metadata": {
  "kernelspec": {
   "display_name": "Python 3",
   "language": "python",
   "name": "python3"
  },
  "language_info": {
   "codemirror_mode": {
    "name": "ipython",
    "version": 3
   },
   "file_extension": ".py",
   "mimetype": "text/x-python",
   "name": "python",
   "nbconvert_exporter": "python",
   "pygments_lexer": "ipython3",
   "version": "3.10.11"
  }
 },
 "nbformat": 4,
 "nbformat_minor": 2
}
